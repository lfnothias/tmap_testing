{
 "cells": [
  {
   "cell_type": "markdown",
   "metadata": {},
   "source": [
    "# Create a TMAP view of similarity pairwise"
   ]
  },
  {
   "cell_type": "code",
   "execution_count": 1,
   "metadata": {},
   "outputs": [
    {
     "name": "stdout",
     "output_type": "stream",
     "text": [
      "Python 3.7.1\n"
     ]
    }
   ],
   "source": [
    "import pandas as pd\n",
    "import tmap as tm\n",
    "from faerun import Faerun\n",
    "import numpy as np\n",
    "from matplotlib import pyplot as plt\n",
    "!python --version"
   ]
  },
  {
   "cell_type": "code",
   "execution_count": 2,
   "metadata": {},
   "outputs": [
    {
     "name": "stdout",
     "output_type": "stream",
     "text": [
      "tmap==1.0.0\n",
      "pandas==1.0.1\n",
      "numpy==1.16.4\n",
      "matplotlib==3.1.1\n",
      "faerun==0.3.10\n"
     ]
    }
   ],
   "source": [
    "import pkg_resources\n",
    "import types\n",
    "def get_imports():\n",
    "    for name, val in globals().items():\n",
    "        if isinstance(val, types.ModuleType):\n",
    "            # Split ensures you get root package, \n",
    "            # not just imported function\n",
    "            name = val.__name__.split(\".\")[0]\n",
    "\n",
    "        elif isinstance(val, type):\n",
    "            name = val.__module__.split(\".\")[0]\n",
    "\n",
    "        # Some packages are weird and have different\n",
    "        # imported names vs. system/pip names. Unfortunately,\n",
    "        # there is no systematic way to get pip names from\n",
    "        # a package's imported name. You'll have to add\n",
    "        # exceptions to this list manually!\n",
    "        poorly_named_packages = {\n",
    "            \"PIL\": \"Pillow\",\n",
    "            \"sklearn\": \"scikit-learn\"\n",
    "        }\n",
    "        if name in poorly_named_packages.keys():\n",
    "            name = poorly_named_packages[name]\n",
    "\n",
    "        yield name\n",
    "imports = list(set(get_imports()))\n",
    "\n",
    "# The only way I found to get the version of the root package\n",
    "# from only the name of the package is to cross-check the names \n",
    "# of installed packages vs. imported packages\n",
    "requirements = []\n",
    "for m in pkg_resources.working_set:\n",
    "    if m.project_name in imports and m.project_name!=\"pip\":\n",
    "        requirements.append((m.project_name, m.version))\n",
    "\n",
    "for r in requirements:\n",
    "    print(\"{}=={}\".format(*r))"
   ]
  },
  {
   "cell_type": "markdown",
   "metadata": {},
   "source": [
    "## Test the Simple graph TMAP"
   ]
  },
  {
   "cell_type": "code",
   "execution_count": 15,
   "metadata": {},
   "outputs": [],
   "source": [
    "def make_tmap():\n",
    "    \"\"\" Main function \"\"\"\n",
    "    n = 25\n",
    "    edge_list = []\n",
    "    weights = {}\n",
    "\n",
    "    # Create a random graph\n",
    "    for i in range(n):\n",
    "        for j in np.random.randint(0, high=n, size=2):\n",
    "            # Do not add parallel edges here, to be sure\n",
    "            # to have the right weight later\n",
    "            if i in weights and j in weights[i] or j in weights and i in weights[j]:\n",
    "                continue\n",
    "\n",
    "            weight = np.random.rand(1)\n",
    "            edge_list.append([i, j, weight])\n",
    "\n",
    "            # Store the weights in 2d map for easy access\n",
    "            if i not in weights:\n",
    "                weights[i] = {}\n",
    "            if j not in weights:\n",
    "                weights[j] = {}\n",
    "\n",
    "            # Invert weights to make lower ones more visible in the plot\n",
    "            weights[i][j] = 1.0 - weight\n",
    "            weights[j][i] = 1.0 - weight\n",
    "    \n",
    "    # Print object type        \n",
    "    print(type(edge_list))\n",
    "    print(edge_list)\n",
    "    print('edge_list[5]')\n",
    "    print(type(edge_list[5]))\n",
    "    print(edge_list[5])\n",
    "    print('edge_list[5][0]')\n",
    "    print(type(edge_list[5][0]))\n",
    "    print(edge_list[5][0])\n",
    "    print('edge_list[5][1]')\n",
    "    print(type(edge_list[5][1]))\n",
    "    print(edge_list[5][1])\n",
    "    print('edge_list[5][2]')\n",
    "    print(type(edge_list[5][2]))\n",
    "    print(edge_list[5][2])\n",
    "    print(len(edge_list))\n",
    "    print(len(weights))\n",
    "    \n",
    "    #print(type(weights))\n",
    "    #print(type(weights[0]))\n",
    "\n",
    "    # Compute the layout\n",
    "    x, y, s, t, _ = tm.layout_from_edge_list(n, edge_list, create_mst=False)\n",
    "    x_mst, y_mst, s_mst, t_mst, _ = tm.layout_from_edge_list(n, edge_list, create_mst=True)\n",
    "\n",
    "    _, (ax1, ax2) = plt.subplots(ncols=2, sharey=True)\n",
    "\n",
    "    # Plot graph layout with spanning tree superimposed in red\n",
    "    for i in range(len(s)):\n",
    "        ax1.plot(\n",
    "            [x[s[i]], x[t[i]]],\n",
    "            [y[s[i]], y[t[i]]],\n",
    "            \"k-\",\n",
    "            linewidth=weights[s[i]][t[i]],\n",
    "            alpha=0.5,\n",
    "            zorder=1,\n",
    "        )\n",
    "\n",
    "    for i in range(len(s_mst)):\n",
    "        ax1.plot(\n",
    "            [x[s_mst[i]], x[t_mst[i]]],\n",
    "            [y[s_mst[i]], y[t_mst[i]]],\n",
    "            \"r-\",\n",
    "            linewidth=weights[s_mst[i]][t_mst[i]],\n",
    "            alpha=0.5,\n",
    "            zorder=2,\n",
    "        )\n",
    "\n",
    "    ax1.scatter(x, y, zorder=3)\n",
    "\n",
    "    # Plot spanning tree layout\n",
    "    for i in range(len(s_mst)):\n",
    "        ax2.plot(\n",
    "            [x_mst[s_mst[i]], x_mst[t_mst[i]]],\n",
    "            [y_mst[s_mst[i]], y_mst[t_mst[i]]],\n",
    "            \"r-\",\n",
    "            linewidth=weights[s_mst[i]][t_mst[i]],\n",
    "            alpha=0.5,\n",
    "            zorder=1,\n",
    "        )\n",
    "\n",
    "    ax2.scatter(x_mst, y_mst, zorder=2)\n",
    "\n",
    "    plt.tight_layout()\n",
    "    #plt.savefig(\"spanning_tree.png\")"
   ]
  },
  {
   "cell_type": "code",
   "execution_count": 16,
   "metadata": {},
   "outputs": [
    {
     "name": "stdout",
     "output_type": "stream",
     "text": [
      "<class 'list'>\n",
      "[[0, 15, array([0.18605747])], [0, 1, array([0.50252237])], [1, 13, array([0.49519452])], [1, 11, array([0.2788831])], [2, 12, array([0.49076192])], [2, 18, array([0.72263218])], [3, 21, array([0.08241468])], [3, 16, array([0.81061712])], [4, 23, array([0.54024815])], [4, 24, array([0.53306408])], [5, 11, array([0.2027216])], [5, 2, array([0.00715926])], [6, 12, array([0.75619402])], [6, 14, array([0.12915231])], [7, 14, array([0.40760683])], [7, 4, array([0.55233843])], [8, 6, array([0.40675428])], [9, 0, array([0.31152481])], [9, 15, array([0.17005636])], [10, 11, array([0.77622374])], [10, 17, array([0.89690917])], [11, 11, array([0.98091066])], [12, 14, array([0.95584634])], [13, 16, array([0.3393639])], [13, 5, array([0.54519108])], [14, 9, array([0.80600823])], [14, 10, array([0.20652887])], [15, 2, array([0.06924609])], [15, 8, array([0.46051181])], [16, 5, array([0.19124998])], [16, 23, array([0.45655048])], [17, 7, array([0.38510574])], [17, 8, array([0.84612506])], [18, 18, array([0.35443348])], [18, 6, array([0.03129156])], [19, 2, array([0.14902413])], [19, 15, array([0.99183874])], [20, 22, array([0.25990947])], [20, 3, array([0.53432432])], [21, 14, array([0.51325642])], [21, 9, array([0.71891243])], [22, 5, array([0.02648834])], [22, 23, array([0.65930068])], [23, 19, array([0.5145528])], [23, 9, array([0.11126345])], [24, 24, array([0.34253786])], [24, 8, array([0.24296832])]]\n",
      "edge_list[5]\n",
      "<class 'list'>\n",
      "[2, 18, array([0.72263218])]\n",
      "edge_list[5][0]\n",
      "<class 'int'>\n",
      "2\n",
      "edge_list[5][1]\n",
      "<class 'numpy.int64'>\n",
      "18\n",
      "edge_list[5][2]\n",
      "<class 'numpy.ndarray'>\n",
      "[0.72263218]\n",
      "47\n",
      "25\n"
     ]
    },
    {
     "data": {
      "image/png": "[encoded data removed]",
      "text/plain": [
       "<Figure size 432x288 with 2 Axes>"
      ]
     },
     "metadata": {
      "needs_background": "light"
     },
     "output_type": "display_data"
    }
   ],
   "source": [
    "make_tmap()"
   ]
  },
  {
   "cell_type": "markdown",
   "metadata": {},
   "source": [
    "# Testing with other pairwise relationships"
   ]
  },
  {
   "cell_type": "markdown",
   "metadata": {},
   "source": [
    "## Load the table containing pairwise relationships"
   ]
  },
  {
   "cell_type": "code",
   "execution_count": 12,
   "metadata": {},
   "outputs": [],
   "source": [
    "df = pd.read_csv('pairwise_list.txt', sep='\\t')\n",
    "df = df.iloc[:30]"
   ]
  },
  {
   "cell_type": "markdown",
   "metadata": {},
   "source": [
    "## Create the edge list and weights dictionnary"
   ]
  },
  {
   "cell_type": "code",
   "execution_count": 17,
   "metadata": {},
   "outputs": [],
   "source": [
    "edge_list = []\n",
    "weights = {}\n",
    "\n",
    "# Iterrows for pairwise similiarty score\n",
    "for index, row in df.iterrows():\n",
    "    # Create edge list\n",
    "    edge_list.append([int(row['Query']),np.int64(row['Target']),np.array([np.float(row['Pairwise_Similarity'])])])\n",
    "    \n",
    "    # Create dictionnary for weights\n",
    "    if row['Query'] not in weights:\n",
    "        weights[row['Query']] = {row['Query'] : np.array([row['Pairwise_Similarity']])}\n",
    "        \n",
    "    if row['Query'] in weights:\n",
    "        weights[row['Query']][row['Target']] = np.array([row['Pairwise_Similarity']])\n",
    "        "
   ]
  },
  {
   "cell_type": "code",
   "execution_count": 18,
   "metadata": {},
   "outputs": [
    {
     "name": "stdout",
     "output_type": "stream",
     "text": [
      "<class 'list'>\n",
      "[[2918, 204, array([1.])], [2918, 885, array([0.99])], [2918, 39, array([0.94])], [2918, 191, array([1.])], [2918, 23934, array([0.98])], [2918, 192, array([1.])], [2918, 6984, array([0.99])], [2918, 8277, array([0.99])], [2918, 4510, array([0.99])], [2918, 8812, array([0.7])], [20512, 10049, array([0.98])], [20512, 7419, array([0.94])], [21267, 2939, array([0.78])], [3074, 469, array([0.93])], [3074, 1996, array([0.96])], [3074, 14097, array([0.84])], [3074, 8410, array([0.89])], [3074, 14, array([0.89])], [3074, 13803, array([0.84])], [3074, 23624, array([0.84])], [3074, 2258, array([0.87])], [3074, 3441, array([0.93])], [3074, 2740, array([0.85])], [3074, 3060, array([0.9])], [3074, 16916, array([0.83])], [3074, 177, array([0.95])], [3074, 3350, array([0.93])], [3074, 14827, array([0.94])], [3074, 26, array([0.96])], [14774, 5631, array([0.96])]]\n",
      "edge_list[5]\n",
      "<class 'list'>\n",
      "[2918, 192, array([1.])]\n",
      "edge_list[5][0]\n",
      "<class 'int'>\n",
      "2918\n",
      "edge_list[5][1]\n",
      "<class 'numpy.int64'>\n",
      "192\n",
      "edge_list[5][2\n",
      "<class 'numpy.ndarray'>\n",
      "[1.]\n",
      "30\n",
      "5\n"
     ]
    }
   ],
   "source": [
    "# Checking the type of the object\n",
    "\n",
    "print(type(edge_list))\n",
    "print(edge_list)\n",
    "print('edge_list[5]')\n",
    "print(type(edge_list[5]))\n",
    "print(edge_list[5])\n",
    "print('edge_list[5][0]')\n",
    "print(type(edge_list[5][0]))\n",
    "print(edge_list[5][0])\n",
    "print('edge_list[5][1]')\n",
    "print(type(edge_list[5][1]))\n",
    "print(edge_list[5][1])\n",
    "print('edge_list[5][2')\n",
    "print(type(edge_list[5][2]))\n",
    "print(edge_list[5][2])\n",
    "print(len(edge_list))\n",
    "print(len(weights))"
   ]
  },
  {
   "cell_type": "markdown",
   "metadata": {},
   "source": [
    "## Computing and plotting the layouts"
   ]
  },
  {
   "cell_type": "code",
   "execution_count": null,
   "metadata": {},
   "outputs": [],
   "source": [
    "# Compute the layout https://tmap.gdb.tools/#simple-graph\n",
    "\n",
    "x, y, s, t, _ = tm.layout_from_edge_list(int(len(weights)), edge_list, create_mst=False)\n",
    "x_mst, y_mst, s_mst, t_mst, _ = tm.layout_from_edge_list(int(len(weights)), edge_list, create_mst=True)\n",
    "\n",
    "_, (ax1, ax2) = plt.subplots(ncols=2, sharey=True)"
   ]
  },
  {
   "cell_type": "code",
   "execution_count": 1,
   "metadata": {},
   "outputs": [
    {
     "ename": "NameError",
     "evalue": "name 's' is not defined",
     "output_type": "error",
     "traceback": [
      "\u001b[0;31m---------------------------------------------------------------------------\u001b[0m",
      "\u001b[0;31mNameError\u001b[0m                                 Traceback (most recent call last)",
      "\u001b[0;32m<ipython-input-1-70beb283f965>\u001b[0m in \u001b[0;36m<module>\u001b[0;34m\u001b[0m\n\u001b[1;32m      1\u001b[0m \u001b[0;31m# Plot graph layout with spanning tree superimposed in red\u001b[0m\u001b[0;34m\u001b[0m\u001b[0;34m\u001b[0m\u001b[0;34m\u001b[0m\u001b[0m\n\u001b[0;32m----> 2\u001b[0;31m \u001b[0;32mfor\u001b[0m \u001b[0mi\u001b[0m \u001b[0;32min\u001b[0m \u001b[0mrange\u001b[0m\u001b[0;34m(\u001b[0m\u001b[0mlen\u001b[0m\u001b[0;34m(\u001b[0m\u001b[0ms\u001b[0m\u001b[0;34m)\u001b[0m\u001b[0;34m)\u001b[0m\u001b[0;34m:\u001b[0m\u001b[0;34m\u001b[0m\u001b[0;34m\u001b[0m\u001b[0m\n\u001b[0m\u001b[1;32m      3\u001b[0m     ax1.plot(\n\u001b[1;32m      4\u001b[0m         \u001b[0;34m[\u001b[0m\u001b[0mx\u001b[0m\u001b[0;34m[\u001b[0m\u001b[0ms\u001b[0m\u001b[0;34m[\u001b[0m\u001b[0mi\u001b[0m\u001b[0;34m]\u001b[0m\u001b[0;34m]\u001b[0m\u001b[0;34m,\u001b[0m \u001b[0mx\u001b[0m\u001b[0;34m[\u001b[0m\u001b[0mt\u001b[0m\u001b[0;34m[\u001b[0m\u001b[0mi\u001b[0m\u001b[0;34m]\u001b[0m\u001b[0;34m]\u001b[0m\u001b[0;34m]\u001b[0m\u001b[0;34m,\u001b[0m\u001b[0;34m\u001b[0m\u001b[0;34m\u001b[0m\u001b[0m\n\u001b[1;32m      5\u001b[0m         \u001b[0;34m[\u001b[0m\u001b[0my\u001b[0m\u001b[0;34m[\u001b[0m\u001b[0ms\u001b[0m\u001b[0;34m[\u001b[0m\u001b[0mi\u001b[0m\u001b[0;34m]\u001b[0m\u001b[0;34m]\u001b[0m\u001b[0;34m,\u001b[0m \u001b[0my\u001b[0m\u001b[0;34m[\u001b[0m\u001b[0mt\u001b[0m\u001b[0;34m[\u001b[0m\u001b[0mi\u001b[0m\u001b[0;34m]\u001b[0m\u001b[0;34m]\u001b[0m\u001b[0;34m]\u001b[0m\u001b[0;34m,\u001b[0m\u001b[0;34m\u001b[0m\u001b[0;34m\u001b[0m\u001b[0m\n",
      "\u001b[0;31mNameError\u001b[0m: name 's' is not defined"
     ]
    }
   ],
   "source": [
    "# Plot graph layout with spanning tree superimposed in red\n",
    "for i in range(len(s)):\n",
    "    ax1.plot(\n",
    "        [x[s[i]], x[t[i]]],\n",
    "        [y[s[i]], y[t[i]]],\n",
    "        \"k-\",\n",
    "        linewidth=weights[s[i]][t[i]],\n",
    "        alpha=0.5,\n",
    "        order=1,\n",
    "        )\n",
    "\n",
    "for i in range(len(s_mst)):\n",
    "    ax1.plot(\n",
    "        [x[s_mst[i]], x[t_mst[i]]],\n",
    "        [y[s_mst[i]], y[t_mst[i]]],\n",
    "        \"r-\",\n",
    "        linewidth=weights[s_mst[i]][t_mst[i]],\n",
    "        alpha=0.5,\n",
    "        zorder=2,\n",
    "        )\n",
    "\n",
    "ax1.scatter(x, y, zorder=3)\n",
    "\n",
    "# Plot spanning tree layout\n",
    "for i in range(len(s_mst)):\n",
    "    ax2.plot(\n",
    "        [x_mst[s_mst[i]], x_mst[t_mst[i]]],\n",
    "        [y_mst[s_mst[i]], y_mst[t_mst[i]]],\n",
    "        \"r-\",\n",
    "        linewidth=weights[s_mst[i]][t_mst[i]],\n",
    "        alpha=0.5,\n",
    "        zorder=1,\n",
    "        )\n",
    "\n",
    "ax2.scatter(x_mst, y_mst, zorder=2)\n",
    "\n",
    "plt.tight_layout()\n",
    "#plt.savefig(\"spanning_tree.png\")"
   ]
  },
  {
   "cell_type": "code",
   "execution_count": null,
   "metadata": {},
   "outputs": [],
   "source": []
  }
 ],
 "metadata": {
  "kernelspec": {
   "display_name": "Python [conda env:python3]",
   "language": "python",
   "name": "conda-env-python3-py"
  },
  "language_info": {
   "codemirror_mode": {
    "name": "ipython",
    "version": 3
   },
   "file_extension": ".py",
   "mimetype": "text/x-python",
   "name": "python",
   "nbconvert_exporter": "python",
   "pygments_lexer": "ipython3",
   "version": "3.7.1"
  }
 },
 "nbformat": 4,
 "nbformat_minor": 2
}
